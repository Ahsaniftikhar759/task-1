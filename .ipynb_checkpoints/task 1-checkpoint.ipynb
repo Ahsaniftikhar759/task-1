{
 "cells": [
  {
   "cell_type": "code",
   "execution_count": null,
   "metadata": {},
   "outputs": [],
   "source": [
    " # Write a Python program which accepts the radius of a circle from the user and compute the area.\\n\"\n",
    "r= float(input(\"enter radius:\"))\n",
    "a= 3.142*(r**3)\n",
    "print(a)"
   ]
  },
  {
   "cell_type": "code",
   "execution_count": null,
   "metadata": {},
   "outputs": [],
   "source": [
    "# Write a Python program to check if a number is positive, negative or zero\n",
    "number= int(input(\"enter number:\"))\n",
    "if number>0:\n",
    "    print(\"positive\")\n",
    "elif  number<0:\n",
    "    print(\"negative\")\n",
    "else:\n",
    "    print(zero)"
   ]
  },
  {
   "cell_type": "code",
   "execution_count": null,
   "metadata": {},
   "outputs": [],
   "source": [
    "# Write a Python program to check whether a number is completely divisible by another number. Accept two integer values form the user\\n\"\n",
    "num1= int(input(\"enter number:\"))\n",
    "num2= int(input(\"enter number:\"))\n",
    "if num1%num2==0:\n",
    "    print(divisible)"
   ]
  },
  {
   "cell_type": "code",
   "execution_count": null,
   "metadata": {},
   "outputs": [],
   "source": [
    "# Write a Python program to get the volume of a sphere, please take the radius as input from user\"\n",
    "r= float(input(\"enter radius:\"))\n",
    "volume=4/3*(3.142)*r**3\n",
    "print(volume)"
   ]
  },
  {
   "cell_type": "code",
   "execution_count": null,
   "metadata": {},
   "outputs": [],
   "source": [
    "# Write a Python program to get a string which is n (non-negative integer) copies of a given string.\\n\"\n",
    "name= input(\"enter string:\")\n",
    "num1= int(input(\"enter number:\"))\n",
    "print(name*num1)"
   ]
  },
  {
   "cell_type": "code",
   "execution_count": null,
   "metadata": {},
   "outputs": [],
   "source": [
    "# Write a Python program to find whether a given number (accept from the user) is even or odd, print out an appropriate message to the user\\n\"\n",
    "num1=int(input(\"enter number\"))  \n",
    "if (num1%2)==0:\n",
    "    print(\"even\")\n",
    "else:\n",
    "    print(\"odd\")"
   ]
  },
  {
   "cell_type": "code",
   "execution_count": null,
   "metadata": {},
   "outputs": [],
   "source": [
    "# Write a Python program to test whether a passed letter is a vowel or not\n",
    "name= input(\"enter letter:\")\n",
    "if name==\"A\" or \"a\":\n",
    "    print(\"vowel\")\n",
    "elif name==\"E\" or \"e\":\n",
    "      print(\"vowel\")\n",
    "elif name==\"I\" or \"i\":\n",
    "      print(\"vowel\")\n",
    "elif name==\"O\" or \"o\":\n",
    "      print(\"vowel\")\n",
    "elif name==\"U\" or \"u\":\n",
    "      print(\"vowel\")\n",
    "else:\n",
    "    print(\"not vowel\")\n",
    "    \n",
    "    "
   ]
  },
  {
   "cell_type": "code",
   "execution_count": null,
   "metadata": {},
   "outputs": [],
   "source": [
    "# Write a Python program that will accept the base and height of a triangle and compute the area\\n\",\n",
    "base= int(input(\"enter number:\"))\n",
    "height= int(input(\"enter number:\"))\n",
    "area=base*height\n",
    "print(area)"
   ]
  },
  {
   "cell_type": "code",
   "execution_count": null,
   "metadata": {},
   "outputs": [],
   "source": [
    "# 9. Calculate Interest Write a Python program to compute the future value of a specified principal amount, rate of interest, and a number of years\\n\",\n",
    "amount= int(input(\"enter number:\"))\n",
    "rate= float(input(\"enter rate:\"))\n",
    "time_period= int(input(\"enter time:\"))\n",
    "Interest=(amount*(1+ rate) ** time_period)\n",
    "print(Interest)\n",
    "    \n",
    "\n",
    "\n",
    "\n",
    "\n"
   ]
  },
  {
   "cell_type": "code",
   "execution_count": null,
   "metadata": {},
   "outputs": [],
   "source": [
    "# write a Python program to compute the distance between the points (x1, y1) and (x2, y2).\\n\"\n",
    "import math\n",
    "\n",
    "x1= int(input(\"enter number:\"))\n",
    "x2= int(input(\"enter number:\"))\n",
    "y1= int(input(\"enter number:\"))\n",
    "y2= int(input(\"enter number:\"))\n",
    "part=((x2-x1)*(x2-x1) + (y2-y1)*(y2-y1))\n",
    "Answer= math.sqrt(part)\n",
    "print(Answer)\n"
   ]
  },
  {
   "cell_type": "code",
   "execution_count": null,
   "metadata": {},
   "outputs": [],
   "source": [
    "# Write a Python program to convert height in feet to centimetres.\\n\",\n",
    "cm= int(input(\"enter cm:\"))\n",
    "feet=cm/30.48\n",
    "print(feet)\n"
   ]
  },
  {
   "cell_type": "code",
   "execution_count": null,
   "metadata": {},
   "outputs": [],
   "source": [
    "# Write a Python program to calculate body mass index\\n\",\n",
    "# formula Body mass index = weight(kg)/hight^2(meter)\"\n",
    "weight= int(input(\"enter weight in kg:\"))\n",
    "hight= int(input(\"enter hight in feet:\"))\n",
    "BMI=weight/hight**2\n",
    "print(BMI)"
   ]
  },
  {
   "cell_type": "markdown",
   "metadata": {},
   "source": [
    "# name=input(\"enter letter :\")\n",
    "if name in \"AEIOU\" or name in \"aeiou\":\n",
    "    print(\"vowel\")\n",
    "else:\n",
    "     print(\"not vowel\")\n",
    "    "
   ]
  },
  {
   "cell_type": "code",
   "execution_count": null,
   "metadata": {},
   "outputs": [],
   "source": [
    "name=int(input(\"enter class:\"))\n",
    "    if name>0 or name<5:\n",
    "         eng=int(input(\"enter marks:\")\n",
    "         math=int(input(\"enter marks:\")\n",
    "         urdu=int(input(\"enter marks:\")\n",
    "         bio=int(input(\"enter marks:\")\n",
    "         phy=int(input(\"enter marks:\")\n",
    "                 sum=eng+urdu+math+bio+phy\n",
    "                 perc=(sum/500)*100\n",
    "                 if perc>90:\n",
    "                     print(\"grade A\")\n",
    "                 elif perc>69 and perc<90:\n",
    "                     print(\"grade B\")\n",
    "                 elif perc>49 and perc<70:\n",
    "                     print(\"grade C\")\n",
    "                 elif perc>32 and perc<50:\n",
    "                     print(\"grade D\")\n",
    "                 else:\n",
    "                     print(\"fail\")\n",
    "    else name>8 or name<11:\n",
    "                 eng=int(input(\"enter marks:\")\n",
    "                 urdu=int(input(\"enter marks:\")\n",
    "                 math=int(input(\"enter marks:\")\n",
    "                 sum=eng+urdu+math\n",
    "                 perc=(sum/300)*100\n",
    "                          if perc>90:\n",
    "                            print(\"grade A\")\n",
    "                          elif perc>69 and perc<90:\n",
    "                            print(\"grade B\"name= input(\"enter class:\")\n",
    "                          elif perc>49 and perc<70:\n",
    "                            print(\"grade C\")\n",
    "                          elif perc>32 and perc<50:\n",
    "                            print(\"grade D\")\n",
    "                          else:\n",
    "                            print(\"fail\")\n",
    "                \n"
   ]
  },
  {
   "cell_type": "code",
   "execution_count": 4,
   "metadata": {},
   "outputs": [
    {
     "ename": "SyntaxError",
     "evalue": "invalid syntax (<ipython-input-4-987d30698157>, line 2)",
     "output_type": "error",
     "traceback": [
      "\u001b[1;36m  File \u001b[1;32m\"<ipython-input-4-987d30698157>\"\u001b[1;36m, line \u001b[1;32m2\u001b[0m\n\u001b[1;33m    total=0\u001b[0m\n\u001b[1;37m        ^\u001b[0m\n\u001b[1;31mSyntaxError\u001b[0m\u001b[1;31m:\u001b[0m invalid syntax\n"
     ]
    }
   ],
   "source": [
    "num=int(input(\"enter number:\")\n",
    "total=0\n",
    "i=1\n",
    "while i<=num:\n",
    "        total=total+i\n",
    "        i=i+1\n",
    "print(total)\n",
    "    \n",
    "    \n",
    "        "
   ]
  },
  {
   "cell_type": "code",
   "execution_count": null,
   "metadata": {},
   "outputs": [],
   "source": []
  },
  {
   "cell_type": "code",
   "execution_count": null,
   "metadata": {},
   "outputs": [],
   "source": []
  }
 ],
 "metadata": {
  "kernelspec": {
   "display_name": "Python 3",
   "language": "python",
   "name": "python3"
  }
 },
 "nbformat": 4,
 "nbformat_minor": 2
}
